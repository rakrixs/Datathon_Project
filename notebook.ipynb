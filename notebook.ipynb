{
 "metadata": {
  "language_info": {
   "codemirror_mode": {
    "name": "ipython",
    "version": 3
   },
   "file_extension": ".py",
   "mimetype": "text/x-python",
   "name": "python",
   "nbconvert_exporter": "python",
   "pygments_lexer": "ipython3",
   "version": "3.8.3-final"
  },
  "orig_nbformat": 2,
  "kernelspec": {
   "name": "Python 3.8.3 64-bit ('base': conda)",
   "display_name": "Python 3.8.3 64-bit ('base': conda)",
   "metadata": {
    "interpreter": {
     "hash": "e818f127c8c24bbae5bdfb1aa5396e6ae5ce01eb737dfcd27877ca0406dd3e48"
    }
   }
  }
 },
 "nbformat": 4,
 "nbformat_minor": 2,
 "cells": [
  {
   "cell_type": "code",
   "execution_count": 1,
   "metadata": {},
   "outputs": [],
   "source": [
    "import pandas as pd\n",
    "import numpy as numpy\n",
    "import matplotlib.pyplot as pyplot\n",
    "from sklearn.tree import DecisionTreeClassifier\n",
    "from sklearn.tree import DecisionTreeRegressor\n",
    "from sklearn.model_selection import train_test_split\n",
    "from sklearn import datasets\n",
    "from sklearn.metrics import classification_report, confusion_matrix\n",
    "from sklearn.metrics import r2_score,mean_squared_error\n",
    "from sklearn.tree import export_graphviz\n",
    "import matplotlib.pyplot as plt"
   ]
  },
  {
   "cell_type": "code",
   "execution_count": 2,
   "metadata": {},
   "outputs": [],
   "source": [
    "data1 = pd.read_csv('C:\\\\Users\\\\rakix\\\\OneDrive\\\\Desktop\\\\dataChallenge\\\\applicants.csv').set_index('userid')"
   ]
  },
  {
   "cell_type": "code",
   "execution_count": 3,
   "metadata": {},
   "outputs": [
    {
     "output_type": "execute_result",
     "data": {
      "text/plain": [
       "                                                school other_school  \\\n",
       "userid                                                                \n",
       "95030aef3e970680d882f1527f549d9e  Texas A&M University          NaN   \n",
       "68ad76832a913de0d62df103b3d5b807  Texas A&M University          NaN   \n",
       "\n",
       "                                                                             majors  \\\n",
       "userid                                                                                \n",
       "95030aef3e970680d882f1527f549d9e  ['Landscape Architecture & Urban Planning', 'P...   \n",
       "68ad76832a913de0d62df103b3d5b807  ['Electrical Engineering', 'Material Science',...   \n",
       "\n",
       "                                                      minors   age_bin  \\\n",
       "userid                                                                   \n",
       "95030aef3e970680d882f1527f549d9e  ['Soil and Crop Sciences']  (25, 30]   \n",
       "68ad76832a913de0d62df103b3d5b807                          []  (18, 20]   \n",
       "\n",
       "                                 classification  first_generation  \\\n",
       "userid                                                              \n",
       "95030aef3e970680d882f1527f549d9e             Ma             False   \n",
       "68ad76832a913de0d62df103b3d5b807             Jr              True   \n",
       "\n",
       "                                  datascience_experience  \\\n",
       "userid                                                     \n",
       "95030aef3e970680d882f1527f549d9e                       2   \n",
       "68ad76832a913de0d62df103b3d5b807                       2   \n",
       "\n",
       "                                                             technology_experience  \\\n",
       "userid                                                                               \n",
       "95030aef3e970680d882f1527f549d9e          ['Excel', 'Python', 'Tableau', 'Pandas']   \n",
       "68ad76832a913de0d62df103b3d5b807  ['Excel', 'Python', 'Pandas', 'NumPy', 'MATLAB']   \n",
       "\n",
       "                                 num_hackathons_attended  \\\n",
       "userid                                                     \n",
       "95030aef3e970680d882f1527f549d9e                       0   \n",
       "68ad76832a913de0d62df103b3d5b807                       0   \n",
       "\n",
       "                                                               workshop_suggestions  \\\n",
       "userid                                                                                \n",
       "95030aef3e970680d882f1527f549d9e  Python Fundamentals (Functions/Loops)\\nVisuali...   \n",
       "68ad76832a913de0d62df103b3d5b807  Training videos on different levels of machine...   \n",
       "\n",
       "                                                                relavent_industries  \n",
       "userid                                                                               \n",
       "95030aef3e970680d882f1527f549d9e           ['consulting', 'public_policy', 'other']  \n",
       "68ad76832a913de0d62df103b3d5b807  ['technology', 'education', 'healthcare', 'ins...  "
      ],
      "text/html": "<div>\n<style scoped>\n    .dataframe tbody tr th:only-of-type {\n        vertical-align: middle;\n    }\n\n    .dataframe tbody tr th {\n        vertical-align: top;\n    }\n\n    .dataframe thead th {\n        text-align: right;\n    }\n</style>\n<table border=\"1\" class=\"dataframe\">\n  <thead>\n    <tr style=\"text-align: right;\">\n      <th></th>\n      <th>school</th>\n      <th>other_school</th>\n      <th>majors</th>\n      <th>minors</th>\n      <th>age_bin</th>\n      <th>classification</th>\n      <th>first_generation</th>\n      <th>datascience_experience</th>\n      <th>technology_experience</th>\n      <th>num_hackathons_attended</th>\n      <th>workshop_suggestions</th>\n      <th>relavent_industries</th>\n    </tr>\n    <tr>\n      <th>userid</th>\n      <th></th>\n      <th></th>\n      <th></th>\n      <th></th>\n      <th></th>\n      <th></th>\n      <th></th>\n      <th></th>\n      <th></th>\n      <th></th>\n      <th></th>\n      <th></th>\n    </tr>\n  </thead>\n  <tbody>\n    <tr>\n      <th>95030aef3e970680d882f1527f549d9e</th>\n      <td>Texas A&amp;M University</td>\n      <td>NaN</td>\n      <td>['Landscape Architecture &amp; Urban Planning', 'P...</td>\n      <td>['Soil and Crop Sciences']</td>\n      <td>(25, 30]</td>\n      <td>Ma</td>\n      <td>False</td>\n      <td>2</td>\n      <td>['Excel', 'Python', 'Tableau', 'Pandas']</td>\n      <td>0</td>\n      <td>Python Fundamentals (Functions/Loops)\\nVisuali...</td>\n      <td>['consulting', 'public_policy', 'other']</td>\n    </tr>\n    <tr>\n      <th>68ad76832a913de0d62df103b3d5b807</th>\n      <td>Texas A&amp;M University</td>\n      <td>NaN</td>\n      <td>['Electrical Engineering', 'Material Science',...</td>\n      <td>[]</td>\n      <td>(18, 20]</td>\n      <td>Jr</td>\n      <td>True</td>\n      <td>2</td>\n      <td>['Excel', 'Python', 'Pandas', 'NumPy', 'MATLAB']</td>\n      <td>0</td>\n      <td>Training videos on different levels of machine...</td>\n      <td>['technology', 'education', 'healthcare', 'ins...</td>\n    </tr>\n  </tbody>\n</table>\n</div>"
     },
     "metadata": {},
     "execution_count": 3
    }
   ],
   "source": [
    "data1.head(2)"
   ]
  },
  {
   "cell_type": "code",
   "execution_count": 4,
   "metadata": {},
   "outputs": [],
   "source": [
    "data2 = pd.read_csv('C:\\\\Users\\\\rakix\\\\OneDrive\\\\Desktop\\\\dataChallenge\\\\queries.csv').set_index('workshop')"
   ]
  },
  {
   "cell_type": "code",
   "execution_count": 5,
   "metadata": {},
   "outputs": [
    {
     "output_type": "execute_result",
     "data": {
      "text/plain": [
       "                                                     query\n",
       "workshop                                                  \n",
       "Machine Learning Part 2/2: Applied  Using machine learning\n",
       "Machine Learning Part 1/2: Theory          underlying math"
      ],
      "text/html": "<div>\n<style scoped>\n    .dataframe tbody tr th:only-of-type {\n        vertical-align: middle;\n    }\n\n    .dataframe tbody tr th {\n        vertical-align: top;\n    }\n\n    .dataframe thead th {\n        text-align: right;\n    }\n</style>\n<table border=\"1\" class=\"dataframe\">\n  <thead>\n    <tr style=\"text-align: right;\">\n      <th></th>\n      <th>query</th>\n    </tr>\n    <tr>\n      <th>workshop</th>\n      <th></th>\n    </tr>\n  </thead>\n  <tbody>\n    <tr>\n      <th>Machine Learning Part 2/2: Applied</th>\n      <td>Using machine learning</td>\n    </tr>\n    <tr>\n      <th>Machine Learning Part 1/2: Theory</th>\n      <td>underlying math</td>\n    </tr>\n  </tbody>\n</table>\n</div>"
     },
     "metadata": {},
     "execution_count": 5
    }
   ],
   "source": [
    "data2.head(2)"
   ]
  },
  {
   "cell_type": "code",
   "execution_count": 6,
   "metadata": {},
   "outputs": [],
   "source": [
    "data3 = pd.read_csv('C:\\\\Users\\\\rakix\\\\OneDrive\\\\Desktop\\\\dataChallenge\\\\bootcamp_turnout.csv').set_index('userid')"
   ]
  },
  {
   "cell_type": "code",
   "execution_count": 7,
   "metadata": {},
   "outputs": [
    {
     "output_type": "execute_result",
     "data": {
      "text/plain": [
       "                                                                           workshop\n",
       "userid                                                                             \n",
       "f48d02fd46d249ab2c37f925f405139f                           Data Science: Start Here\n",
       "f48d02fd46d249ab2c37f925f405139f                      Getting a Job in Data Science\n",
       "f4610ad445934181ac9982f6ba818907                            Story Telling With Data\n",
       "f4610ad445934181ac9982f6ba818907  Convolutional Neural Networks & Semantic Segme...\n",
       "f4610ad445934181ac9982f6ba818907                       Machine Learning: Start Here\n",
       "f3784fc5a7743ebbe9bbcfd59e909c93                      Getting a Job in Data Science\n",
       "f3784fc5a7743ebbe9bbcfd59e909c93                        Natural Language Processing\n",
       "f0ab166097c6f21418329b3302c13a14                           Data Science: Start Here\n",
       "e86097e3762488fc8a9a4405c2f0f042                           Data Science: Start Here\n",
       "e86097e3762488fc8a9a4405c2f0f042                        Natural Language Processing"
      ],
      "text/html": "<div>\n<style scoped>\n    .dataframe tbody tr th:only-of-type {\n        vertical-align: middle;\n    }\n\n    .dataframe tbody tr th {\n        vertical-align: top;\n    }\n\n    .dataframe thead th {\n        text-align: right;\n    }\n</style>\n<table border=\"1\" class=\"dataframe\">\n  <thead>\n    <tr style=\"text-align: right;\">\n      <th></th>\n      <th>workshop</th>\n    </tr>\n    <tr>\n      <th>userid</th>\n      <th></th>\n    </tr>\n  </thead>\n  <tbody>\n    <tr>\n      <th>f48d02fd46d249ab2c37f925f405139f</th>\n      <td>Data Science: Start Here</td>\n    </tr>\n    <tr>\n      <th>f48d02fd46d249ab2c37f925f405139f</th>\n      <td>Getting a Job in Data Science</td>\n    </tr>\n    <tr>\n      <th>f4610ad445934181ac9982f6ba818907</th>\n      <td>Story Telling With Data</td>\n    </tr>\n    <tr>\n      <th>f4610ad445934181ac9982f6ba818907</th>\n      <td>Convolutional Neural Networks &amp; Semantic Segme...</td>\n    </tr>\n    <tr>\n      <th>f4610ad445934181ac9982f6ba818907</th>\n      <td>Machine Learning: Start Here</td>\n    </tr>\n    <tr>\n      <th>f3784fc5a7743ebbe9bbcfd59e909c93</th>\n      <td>Getting a Job in Data Science</td>\n    </tr>\n    <tr>\n      <th>f3784fc5a7743ebbe9bbcfd59e909c93</th>\n      <td>Natural Language Processing</td>\n    </tr>\n    <tr>\n      <th>f0ab166097c6f21418329b3302c13a14</th>\n      <td>Data Science: Start Here</td>\n    </tr>\n    <tr>\n      <th>e86097e3762488fc8a9a4405c2f0f042</th>\n      <td>Data Science: Start Here</td>\n    </tr>\n    <tr>\n      <th>e86097e3762488fc8a9a4405c2f0f042</th>\n      <td>Natural Language Processing</td>\n    </tr>\n  </tbody>\n</table>\n</div>"
     },
     "metadata": {},
     "execution_count": 7
    }
   ],
   "source": [
    "data3.head(10)"
   ]
  },
  {
   "cell_type": "code",
   "execution_count": 8,
   "metadata": {},
   "outputs": [],
   "source": [
    "data4 = pd.read_csv('C:\\\\Users\\\\rakix\\\\OneDrive\\\\Desktop\\\\dataChallenge\\\\workshops.csv').set_index('workshop')"
   ]
  },
  {
   "cell_type": "code",
   "execution_count": 9,
   "metadata": {},
   "outputs": [
    {
     "output_type": "execute_result",
     "data": {
      "text/plain": [
       "                                        event  \\\n",
       "workshop                                        \n",
       "Introduction to Python                TD 2020   \n",
       "Storytelling with Data                TD 2020   \n",
       "Stats for Data Scientists             TD 2020   \n",
       "How To Win TAMU Datathon              TD 2020   \n",
       "Intro to Natural Language Processing  TD 2020   \n",
       "Data Wrangling                        TD 2020   \n",
       "Data Visualization                    TD 2020   \n",
       "Machine Learning Interpretability     TD 2020   \n",
       "Intro to Neural Networks              TD 2020   \n",
       "Machine Learning Part 1/2: Theory     TD 2020   \n",
       "\n",
       "                                                                                   tags  \\\n",
       "workshop                                                                                  \n",
       "Introduction to Python                for, loops, functions, while, logic, variables...   \n",
       "Storytelling with Data                       presenting, impact, business, data science   \n",
       "Stats for Data Scientists             statistics, confidence interval, testing, stat...   \n",
       "How To Win TAMU Datathon                               win, advice, datathon, hackathon   \n",
       "Intro to Natural Language Processing  sklearn, gensim, nltk, tfidf, TfidfVectorizer,...   \n",
       "Data Wrangling                        jupyter notebook, pandas, import, packages, da...   \n",
       "Data Visualization                    viz, visualization, seaborn, matplotlib, plots...   \n",
       "Machine Learning Interpretability     explainability, partial dependence, LIME, cond...   \n",
       "Intro to Neural Networks              neural networks, machine learning, introductio...   \n",
       "Machine Learning Part 1/2: Theory     optimization, math, theory, machine learning, ...   \n",
       "\n",
       "                                                                            description  \\\n",
       "workshop                                                                                  \n",
       "Introduction to Python                Are you new to programming? Or do you want a r...   \n",
       "Storytelling with Data                In this talk, we will describe how we use data...   \n",
       "Stats for Data Scientists             In this talk, we will discuss some aspects of ...   \n",
       "How To Win TAMU Datathon              Learn how to win at TAMU Datathon from last ye...   \n",
       "Intro to Natural Language Processing  Interested in learning what Natural Language P...   \n",
       "Data Wrangling                        Today, we'll dive into a process known as \"dat...   \n",
       "Data Visualization                    Today, we'll cover data visualization and the ...   \n",
       "Machine Learning Interpretability     In this session on model interpretability, we ...   \n",
       "Intro to Neural Networks              hidden layers, edges, nodes, backwards propaga...   \n",
       "Machine Learning Part 1/2: Theory     Before you dive into some of the hot ML algori...   \n",
       "\n",
       "                                         track  difficulty  \n",
       "workshop                                                    \n",
       "Introduction to Python                      CS           0  \n",
       "Storytelling with Data                Industry           0  \n",
       "Stats for Data Scientists                   DS           0  \n",
       "How To Win TAMU Datathon              Industry           0  \n",
       "Intro to Natural Language Processing        ML           2  \n",
       "Data Wrangling                              DS           1  \n",
       "Data Visualization                          DS           1  \n",
       "Machine Learning Interpretability           ML           2  \n",
       "Intro to Neural Networks                    DL           2  \n",
       "Machine Learning Part 1/2: Theory           ML           1  "
      ],
      "text/html": "<div>\n<style scoped>\n    .dataframe tbody tr th:only-of-type {\n        vertical-align: middle;\n    }\n\n    .dataframe tbody tr th {\n        vertical-align: top;\n    }\n\n    .dataframe thead th {\n        text-align: right;\n    }\n</style>\n<table border=\"1\" class=\"dataframe\">\n  <thead>\n    <tr style=\"text-align: right;\">\n      <th></th>\n      <th>event</th>\n      <th>tags</th>\n      <th>description</th>\n      <th>track</th>\n      <th>difficulty</th>\n    </tr>\n    <tr>\n      <th>workshop</th>\n      <th></th>\n      <th></th>\n      <th></th>\n      <th></th>\n      <th></th>\n    </tr>\n  </thead>\n  <tbody>\n    <tr>\n      <th>Introduction to Python</th>\n      <td>TD 2020</td>\n      <td>for, loops, functions, while, logic, variables...</td>\n      <td>Are you new to programming? Or do you want a r...</td>\n      <td>CS</td>\n      <td>0</td>\n    </tr>\n    <tr>\n      <th>Storytelling with Data</th>\n      <td>TD 2020</td>\n      <td>presenting, impact, business, data science</td>\n      <td>In this talk, we will describe how we use data...</td>\n      <td>Industry</td>\n      <td>0</td>\n    </tr>\n    <tr>\n      <th>Stats for Data Scientists</th>\n      <td>TD 2020</td>\n      <td>statistics, confidence interval, testing, stat...</td>\n      <td>In this talk, we will discuss some aspects of ...</td>\n      <td>DS</td>\n      <td>0</td>\n    </tr>\n    <tr>\n      <th>How To Win TAMU Datathon</th>\n      <td>TD 2020</td>\n      <td>win, advice, datathon, hackathon</td>\n      <td>Learn how to win at TAMU Datathon from last ye...</td>\n      <td>Industry</td>\n      <td>0</td>\n    </tr>\n    <tr>\n      <th>Intro to Natural Language Processing</th>\n      <td>TD 2020</td>\n      <td>sklearn, gensim, nltk, tfidf, TfidfVectorizer,...</td>\n      <td>Interested in learning what Natural Language P...</td>\n      <td>ML</td>\n      <td>2</td>\n    </tr>\n    <tr>\n      <th>Data Wrangling</th>\n      <td>TD 2020</td>\n      <td>jupyter notebook, pandas, import, packages, da...</td>\n      <td>Today, we'll dive into a process known as \"dat...</td>\n      <td>DS</td>\n      <td>1</td>\n    </tr>\n    <tr>\n      <th>Data Visualization</th>\n      <td>TD 2020</td>\n      <td>viz, visualization, seaborn, matplotlib, plots...</td>\n      <td>Today, we'll cover data visualization and the ...</td>\n      <td>DS</td>\n      <td>1</td>\n    </tr>\n    <tr>\n      <th>Machine Learning Interpretability</th>\n      <td>TD 2020</td>\n      <td>explainability, partial dependence, LIME, cond...</td>\n      <td>In this session on model interpretability, we ...</td>\n      <td>ML</td>\n      <td>2</td>\n    </tr>\n    <tr>\n      <th>Intro to Neural Networks</th>\n      <td>TD 2020</td>\n      <td>neural networks, machine learning, introductio...</td>\n      <td>hidden layers, edges, nodes, backwards propaga...</td>\n      <td>DL</td>\n      <td>2</td>\n    </tr>\n    <tr>\n      <th>Machine Learning Part 1/2: Theory</th>\n      <td>TD 2020</td>\n      <td>optimization, math, theory, machine learning, ...</td>\n      <td>Before you dive into some of the hot ML algori...</td>\n      <td>ML</td>\n      <td>1</td>\n    </tr>\n  </tbody>\n</table>\n</div>"
     },
     "metadata": {},
     "execution_count": 9
    }
   ],
   "source": [
    "data4.head(10)"
   ]
  },
  {
   "cell_type": "code",
   "execution_count": 10,
   "metadata": {},
   "outputs": [
    {
     "output_type": "execute_result",
     "data": {
      "text/plain": [
       "Index(['school', 'other_school', 'majors', 'minors', 'age_bin',\n",
       "       'classification', 'first_generation', 'datascience_experience',\n",
       "       'technology_experience', 'num_hackathons_attended',\n",
       "       'workshop_suggestions', 'relavent_industries', 'query'],\n",
       "      dtype='object')"
      ]
     },
     "metadata": {},
     "execution_count": 10
    }
   ],
   "source": [
    "joined = data1.join(data2)\n",
    "joined.columns"
   ]
  },
  {
   "cell_type": "code",
   "execution_count": 11,
   "metadata": {},
   "outputs": [
    {
     "output_type": "execute_result",
     "data": {
      "text/plain": [
       "                                                              school  \\\n",
       "0003bb1d6585a9342bbb745bb52bb436                 New York University   \n",
       "002314e62544dcb65e08d3483c4ffa75                Texas A&M University   \n",
       "00732e4333714e18b3186a84efc7c5a7  Washington University in St. Louis   \n",
       "0084482449fe55efd513ed31a09c8ef3                Texas A&M University   \n",
       "0094451e8f688f5b45e9466528137d44                Texas A&M University   \n",
       "00a84ee6be115dd286af149411e91bbe                Texas A&M University   \n",
       "00b8592a7063cd97a01155d5d540330e         University of South Florida   \n",
       "00f3a95bc2be650ce89640cc7c30bec1                Texas A&M University   \n",
       "00fa667586baa5ab6e730e1f4eeb6314                Texas A&M University   \n",
       "011c08999895a8a06f6e7f0e23b066b9                Texas A&M University   \n",
       "\n",
       "                                 other_school  \\\n",
       "0003bb1d6585a9342bbb745bb52bb436          NaN   \n",
       "002314e62544dcb65e08d3483c4ffa75          NaN   \n",
       "00732e4333714e18b3186a84efc7c5a7          NaN   \n",
       "0084482449fe55efd513ed31a09c8ef3          NaN   \n",
       "0094451e8f688f5b45e9466528137d44          NaN   \n",
       "00a84ee6be115dd286af149411e91bbe          NaN   \n",
       "00b8592a7063cd97a01155d5d540330e          NaN   \n",
       "00f3a95bc2be650ce89640cc7c30bec1          NaN   \n",
       "00fa667586baa5ab6e730e1f4eeb6314          NaN   \n",
       "011c08999895a8a06f6e7f0e23b066b9          NaN   \n",
       "\n",
       "                                                                             majors  \\\n",
       "0003bb1d6585a9342bbb745bb52bb436                                          ['Other']   \n",
       "002314e62544dcb65e08d3483c4ffa75                 ['Computer Science & Engineering']   \n",
       "00732e4333714e18b3186a84efc7c5a7  ['Data Science & Analytics', 'Electrical Engin...   \n",
       "0084482449fe55efd513ed31a09c8ef3                 ['Management Information Systems']   \n",
       "0094451e8f688f5b45e9466528137d44                         ['Electrical Engineering']   \n",
       "00a84ee6be115dd286af149411e91bbe                 ['Computer Science & Engineering']   \n",
       "00b8592a7063cd97a01155d5d540330e                         ['Electrical Engineering']   \n",
       "00f3a95bc2be650ce89640cc7c30bec1                 ['Computer Science & Engineering']   \n",
       "00fa667586baa5ab6e730e1f4eeb6314                 ['Computer Science & Engineering']   \n",
       "011c08999895a8a06f6e7f0e23b066b9          ['Industrial and/or Systems Engineering']   \n",
       "\n",
       "                                                              minors  \\\n",
       "0003bb1d6585a9342bbb745bb52bb436  ['Computer Science & Engineering']   \n",
       "002314e62544dcb65e08d3483c4ffa75                                  []   \n",
       "00732e4333714e18b3186a84efc7c5a7                                  []   \n",
       "0084482449fe55efd513ed31a09c8ef3                                  []   \n",
       "0094451e8f688f5b45e9466528137d44                                  []   \n",
       "00a84ee6be115dd286af149411e91bbe                                  []   \n",
       "00b8592a7063cd97a01155d5d540330e  ['Computer Science & Engineering']   \n",
       "00f3a95bc2be650ce89640cc7c30bec1                     ['Mathematics']   \n",
       "00fa667586baa5ab6e730e1f4eeb6314                     ['Mathematics']   \n",
       "011c08999895a8a06f6e7f0e23b066b9                                  []   \n",
       "\n",
       "                                   age_bin classification  first_generation  \\\n",
       "0003bb1d6585a9342bbb745bb52bb436  (20, 22]             Sr             False   \n",
       "002314e62544dcb65e08d3483c4ffa75  (18, 20]             Jr             False   \n",
       "00732e4333714e18b3186a84efc7c5a7  (22, 25]             Ma             False   \n",
       "0084482449fe55efd513ed31a09c8ef3  (22, 25]             Ma             False   \n",
       "0094451e8f688f5b45e9466528137d44  (25, 30]            PhD             False   \n",
       "00a84ee6be115dd286af149411e91bbe  (22, 25]             Ma             False   \n",
       "00b8592a7063cd97a01155d5d540330e  (22, 25]            PhD             False   \n",
       "00f3a95bc2be650ce89640cc7c30bec1  (18, 20]             Fr             False   \n",
       "00fa667586baa5ab6e730e1f4eeb6314  (18, 20]             Jr             False   \n",
       "011c08999895a8a06f6e7f0e23b066b9  (30, 50]             Jr              True   \n",
       "\n",
       "                                  datascience_experience  \\\n",
       "0003bb1d6585a9342bbb745bb52bb436                       2   \n",
       "002314e62544dcb65e08d3483c4ffa75                       1   \n",
       "00732e4333714e18b3186a84efc7c5a7                       2   \n",
       "0084482449fe55efd513ed31a09c8ef3                       2   \n",
       "0094451e8f688f5b45e9466528137d44                       2   \n",
       "00a84ee6be115dd286af149411e91bbe                       2   \n",
       "00b8592a7063cd97a01155d5d540330e                       3   \n",
       "00f3a95bc2be650ce89640cc7c30bec1                       0   \n",
       "00fa667586baa5ab6e730e1f4eeb6314                       2   \n",
       "011c08999895a8a06f6e7f0e23b066b9                       4   \n",
       "\n",
       "                                                              technology_experience  \\\n",
       "0003bb1d6585a9342bbb745bb52bb436                                                 []   \n",
       "002314e62544dcb65e08d3483c4ffa75                           ['Python', 'full_stack']   \n",
       "00732e4333714e18b3186a84efc7c5a7                                                 []   \n",
       "0084482449fe55efd513ed31a09c8ef3  ['Excel', 'Python', 'Tableau', 'SQL', 'Pandas'...   \n",
       "0094451e8f688f5b45e9466528137d44  ['Python', 'R', 'SQL', 'Pandas', 'NumPy', 'Sci...   \n",
       "00a84ee6be115dd286af149411e91bbe  ['Python', 'Keras', 'Pandas', 'NumPy', 'Scikit...   \n",
       "00b8592a7063cd97a01155d5d540330e  ['Python', 'TensorFlow', 'Pytorch', 'Keras', '...   \n",
       "00f3a95bc2be650ce89640cc7c30bec1                                         ['Python']   \n",
       "00fa667586baa5ab6e730e1f4eeb6314         ['Excel', 'Python', 'R', 'NumPy', 'cloud']   \n",
       "011c08999895a8a06f6e7f0e23b066b9                       ['Excel', 'Python', 'NumPy']   \n",
       "\n",
       "                                 num_hackathons_attended  \\\n",
       "0003bb1d6585a9342bbb745bb52bb436                     1-3   \n",
       "002314e62544dcb65e08d3483c4ffa75                     1-3   \n",
       "00732e4333714e18b3186a84efc7c5a7                       0   \n",
       "0084482449fe55efd513ed31a09c8ef3                     4-7   \n",
       "0094451e8f688f5b45e9466528137d44                     1-3   \n",
       "00a84ee6be115dd286af149411e91bbe                     1-3   \n",
       "00b8592a7063cd97a01155d5d540330e                     10+   \n",
       "00f3a95bc2be650ce89640cc7c30bec1                       0   \n",
       "00fa667586baa5ab6e730e1f4eeb6314                       0   \n",
       "011c08999895a8a06f6e7f0e23b066b9                       0   \n",
       "\n",
       "                                                               workshop_suggestions  \\\n",
       "0003bb1d6585a9342bbb745bb52bb436                                                NaN   \n",
       "002314e62544dcb65e08d3483c4ffa75                                                NaN   \n",
       "00732e4333714e18b3186a84efc7c5a7                                                NaN   \n",
       "0084482449fe55efd513ed31a09c8ef3                                                NaN   \n",
       "0094451e8f688f5b45e9466528137d44                                                NaN   \n",
       "00a84ee6be115dd286af149411e91bbe                                                NaN   \n",
       "00b8592a7063cd97a01155d5d540330e                                                NaN   \n",
       "00f3a95bc2be650ce89640cc7c30bec1  I would love to see a workshop over neural net...   \n",
       "00fa667586baa5ab6e730e1f4eeb6314                                                NaN   \n",
       "011c08999895a8a06f6e7f0e23b066b9                                                NaN   \n",
       "\n",
       "                                                                relavent_industries  \\\n",
       "0003bb1d6585a9342bbb745bb52bb436                                                 []   \n",
       "002314e62544dcb65e08d3483c4ffa75                                                 []   \n",
       "00732e4333714e18b3186a84efc7c5a7  ['technology', 'energy', 'consulting', 'finance']   \n",
       "0084482449fe55efd513ed31a09c8ef3  ['technology', 'consulting', 'finance', 'educa...   \n",
       "0094451e8f688f5b45e9466528137d44  ['technology', 'energy', 'finance', 'transport...   \n",
       "00a84ee6be115dd286af149411e91bbe                                                 []   \n",
       "00b8592a7063cd97a01155d5d540330e      ['technology', 'transportation', 'education']   \n",
       "00f3a95bc2be650ce89640cc7c30bec1                                     ['technology']   \n",
       "00fa667586baa5ab6e730e1f4eeb6314                                        ['finance']   \n",
       "011c08999895a8a06f6e7f0e23b066b9  ['energy', 'consulting', 'transportation', 'sp...   \n",
       "\n",
       "                                 query  \n",
       "0003bb1d6585a9342bbb745bb52bb436   NaN  \n",
       "002314e62544dcb65e08d3483c4ffa75   NaN  \n",
       "00732e4333714e18b3186a84efc7c5a7   NaN  \n",
       "0084482449fe55efd513ed31a09c8ef3   NaN  \n",
       "0094451e8f688f5b45e9466528137d44   NaN  \n",
       "00a84ee6be115dd286af149411e91bbe   NaN  \n",
       "00b8592a7063cd97a01155d5d540330e   NaN  \n",
       "00f3a95bc2be650ce89640cc7c30bec1   NaN  \n",
       "00fa667586baa5ab6e730e1f4eeb6314   NaN  \n",
       "011c08999895a8a06f6e7f0e23b066b9   NaN  "
      ],
      "text/html": "<div>\n<style scoped>\n    .dataframe tbody tr th:only-of-type {\n        vertical-align: middle;\n    }\n\n    .dataframe tbody tr th {\n        vertical-align: top;\n    }\n\n    .dataframe thead th {\n        text-align: right;\n    }\n</style>\n<table border=\"1\" class=\"dataframe\">\n  <thead>\n    <tr style=\"text-align: right;\">\n      <th></th>\n      <th>school</th>\n      <th>other_school</th>\n      <th>majors</th>\n      <th>minors</th>\n      <th>age_bin</th>\n      <th>classification</th>\n      <th>first_generation</th>\n      <th>datascience_experience</th>\n      <th>technology_experience</th>\n      <th>num_hackathons_attended</th>\n      <th>workshop_suggestions</th>\n      <th>relavent_industries</th>\n      <th>query</th>\n    </tr>\n  </thead>\n  <tbody>\n    <tr>\n      <th>0003bb1d6585a9342bbb745bb52bb436</th>\n      <td>New York University</td>\n      <td>NaN</td>\n      <td>['Other']</td>\n      <td>['Computer Science &amp; Engineering']</td>\n      <td>(20, 22]</td>\n      <td>Sr</td>\n      <td>False</td>\n      <td>2</td>\n      <td>[]</td>\n      <td>1-3</td>\n      <td>NaN</td>\n      <td>[]</td>\n      <td>NaN</td>\n    </tr>\n    <tr>\n      <th>002314e62544dcb65e08d3483c4ffa75</th>\n      <td>Texas A&amp;M University</td>\n      <td>NaN</td>\n      <td>['Computer Science &amp; Engineering']</td>\n      <td>[]</td>\n      <td>(18, 20]</td>\n      <td>Jr</td>\n      <td>False</td>\n      <td>1</td>\n      <td>['Python', 'full_stack']</td>\n      <td>1-3</td>\n      <td>NaN</td>\n      <td>[]</td>\n      <td>NaN</td>\n    </tr>\n    <tr>\n      <th>00732e4333714e18b3186a84efc7c5a7</th>\n      <td>Washington University in St. Louis</td>\n      <td>NaN</td>\n      <td>['Data Science &amp; Analytics', 'Electrical Engin...</td>\n      <td>[]</td>\n      <td>(22, 25]</td>\n      <td>Ma</td>\n      <td>False</td>\n      <td>2</td>\n      <td>[]</td>\n      <td>0</td>\n      <td>NaN</td>\n      <td>['technology', 'energy', 'consulting', 'finance']</td>\n      <td>NaN</td>\n    </tr>\n    <tr>\n      <th>0084482449fe55efd513ed31a09c8ef3</th>\n      <td>Texas A&amp;M University</td>\n      <td>NaN</td>\n      <td>['Management Information Systems']</td>\n      <td>[]</td>\n      <td>(22, 25]</td>\n      <td>Ma</td>\n      <td>False</td>\n      <td>2</td>\n      <td>['Excel', 'Python', 'Tableau', 'SQL', 'Pandas'...</td>\n      <td>4-7</td>\n      <td>NaN</td>\n      <td>['technology', 'consulting', 'finance', 'educa...</td>\n      <td>NaN</td>\n    </tr>\n    <tr>\n      <th>0094451e8f688f5b45e9466528137d44</th>\n      <td>Texas A&amp;M University</td>\n      <td>NaN</td>\n      <td>['Electrical Engineering']</td>\n      <td>[]</td>\n      <td>(25, 30]</td>\n      <td>PhD</td>\n      <td>False</td>\n      <td>2</td>\n      <td>['Python', 'R', 'SQL', 'Pandas', 'NumPy', 'Sci...</td>\n      <td>1-3</td>\n      <td>NaN</td>\n      <td>['technology', 'energy', 'finance', 'transport...</td>\n      <td>NaN</td>\n    </tr>\n    <tr>\n      <th>00a84ee6be115dd286af149411e91bbe</th>\n      <td>Texas A&amp;M University</td>\n      <td>NaN</td>\n      <td>['Computer Science &amp; Engineering']</td>\n      <td>[]</td>\n      <td>(22, 25]</td>\n      <td>Ma</td>\n      <td>False</td>\n      <td>2</td>\n      <td>['Python', 'Keras', 'Pandas', 'NumPy', 'Scikit...</td>\n      <td>1-3</td>\n      <td>NaN</td>\n      <td>[]</td>\n      <td>NaN</td>\n    </tr>\n    <tr>\n      <th>00b8592a7063cd97a01155d5d540330e</th>\n      <td>University of South Florida</td>\n      <td>NaN</td>\n      <td>['Electrical Engineering']</td>\n      <td>['Computer Science &amp; Engineering']</td>\n      <td>(22, 25]</td>\n      <td>PhD</td>\n      <td>False</td>\n      <td>3</td>\n      <td>['Python', 'TensorFlow', 'Pytorch', 'Keras', '...</td>\n      <td>10+</td>\n      <td>NaN</td>\n      <td>['technology', 'transportation', 'education']</td>\n      <td>NaN</td>\n    </tr>\n    <tr>\n      <th>00f3a95bc2be650ce89640cc7c30bec1</th>\n      <td>Texas A&amp;M University</td>\n      <td>NaN</td>\n      <td>['Computer Science &amp; Engineering']</td>\n      <td>['Mathematics']</td>\n      <td>(18, 20]</td>\n      <td>Fr</td>\n      <td>False</td>\n      <td>0</td>\n      <td>['Python']</td>\n      <td>0</td>\n      <td>I would love to see a workshop over neural net...</td>\n      <td>['technology']</td>\n      <td>NaN</td>\n    </tr>\n    <tr>\n      <th>00fa667586baa5ab6e730e1f4eeb6314</th>\n      <td>Texas A&amp;M University</td>\n      <td>NaN</td>\n      <td>['Computer Science &amp; Engineering']</td>\n      <td>['Mathematics']</td>\n      <td>(18, 20]</td>\n      <td>Jr</td>\n      <td>False</td>\n      <td>2</td>\n      <td>['Excel', 'Python', 'R', 'NumPy', 'cloud']</td>\n      <td>0</td>\n      <td>NaN</td>\n      <td>['finance']</td>\n      <td>NaN</td>\n    </tr>\n    <tr>\n      <th>011c08999895a8a06f6e7f0e23b066b9</th>\n      <td>Texas A&amp;M University</td>\n      <td>NaN</td>\n      <td>['Industrial and/or Systems Engineering']</td>\n      <td>[]</td>\n      <td>(30, 50]</td>\n      <td>Jr</td>\n      <td>True</td>\n      <td>4</td>\n      <td>['Excel', 'Python', 'NumPy']</td>\n      <td>0</td>\n      <td>NaN</td>\n      <td>['energy', 'consulting', 'transportation', 'sp...</td>\n      <td>NaN</td>\n    </tr>\n  </tbody>\n</table>\n</div>"
     },
     "metadata": {},
     "execution_count": 11
    }
   ],
   "source": [
    "joined.head(10)"
   ]
  },
  {
   "cell_type": "code",
   "execution_count": 12,
   "metadata": {},
   "outputs": [
    {
     "output_type": "execute_result",
     "data": {
      "text/plain": [
       "                                                              school  \\\n",
       "0003bb1d6585a9342bbb745bb52bb436                 New York University   \n",
       "002314e62544dcb65e08d3483c4ffa75                Texas A&M University   \n",
       "00732e4333714e18b3186a84efc7c5a7  Washington University in St. Louis   \n",
       "0084482449fe55efd513ed31a09c8ef3                Texas A&M University   \n",
       "\n",
       "                                 other_school  \\\n",
       "0003bb1d6585a9342bbb745bb52bb436          NaN   \n",
       "002314e62544dcb65e08d3483c4ffa75          NaN   \n",
       "00732e4333714e18b3186a84efc7c5a7          NaN   \n",
       "0084482449fe55efd513ed31a09c8ef3          NaN   \n",
       "\n",
       "                                                                             majors  \\\n",
       "0003bb1d6585a9342bbb745bb52bb436                                          ['Other']   \n",
       "002314e62544dcb65e08d3483c4ffa75                 ['Computer Science & Engineering']   \n",
       "00732e4333714e18b3186a84efc7c5a7  ['Data Science & Analytics', 'Electrical Engin...   \n",
       "0084482449fe55efd513ed31a09c8ef3                 ['Management Information Systems']   \n",
       "\n",
       "                                                              minors  \\\n",
       "0003bb1d6585a9342bbb745bb52bb436  ['Computer Science & Engineering']   \n",
       "002314e62544dcb65e08d3483c4ffa75                                  []   \n",
       "00732e4333714e18b3186a84efc7c5a7                                  []   \n",
       "0084482449fe55efd513ed31a09c8ef3                                  []   \n",
       "\n",
       "                                   age_bin  classification  first_generation  \\\n",
       "0003bb1d6585a9342bbb745bb52bb436  (20, 22]               3             False   \n",
       "002314e62544dcb65e08d3483c4ffa75  (18, 20]               2             False   \n",
       "00732e4333714e18b3186a84efc7c5a7  (22, 25]               4             False   \n",
       "0084482449fe55efd513ed31a09c8ef3  (22, 25]               4             False   \n",
       "\n",
       "                                  datascience_experience  \\\n",
       "0003bb1d6585a9342bbb745bb52bb436                       2   \n",
       "002314e62544dcb65e08d3483c4ffa75                       1   \n",
       "00732e4333714e18b3186a84efc7c5a7                       2   \n",
       "0084482449fe55efd513ed31a09c8ef3                       2   \n",
       "\n",
       "                                                              technology_experience  \\\n",
       "0003bb1d6585a9342bbb745bb52bb436                                                 []   \n",
       "002314e62544dcb65e08d3483c4ffa75                           ['Python', 'full_stack']   \n",
       "00732e4333714e18b3186a84efc7c5a7                                                 []   \n",
       "0084482449fe55efd513ed31a09c8ef3  ['Excel', 'Python', 'Tableau', 'SQL', 'Pandas'...   \n",
       "\n",
       "                                 num_hackathons_attended workshop_suggestions  \\\n",
       "0003bb1d6585a9342bbb745bb52bb436                     1-3                  NaN   \n",
       "002314e62544dcb65e08d3483c4ffa75                     1-3                  NaN   \n",
       "00732e4333714e18b3186a84efc7c5a7                       0                  NaN   \n",
       "0084482449fe55efd513ed31a09c8ef3                     4-7                  NaN   \n",
       "\n",
       "                                                                relavent_industries  \\\n",
       "0003bb1d6585a9342bbb745bb52bb436                                                 []   \n",
       "002314e62544dcb65e08d3483c4ffa75                                                 []   \n",
       "00732e4333714e18b3186a84efc7c5a7  ['technology', 'energy', 'consulting', 'finance']   \n",
       "0084482449fe55efd513ed31a09c8ef3  ['technology', 'consulting', 'finance', 'educa...   \n",
       "\n",
       "                                 query  \n",
       "0003bb1d6585a9342bbb745bb52bb436   NaN  \n",
       "002314e62544dcb65e08d3483c4ffa75   NaN  \n",
       "00732e4333714e18b3186a84efc7c5a7   NaN  \n",
       "0084482449fe55efd513ed31a09c8ef3   NaN  "
      ],
      "text/html": "<div>\n<style scoped>\n    .dataframe tbody tr th:only-of-type {\n        vertical-align: middle;\n    }\n\n    .dataframe tbody tr th {\n        vertical-align: top;\n    }\n\n    .dataframe thead th {\n        text-align: right;\n    }\n</style>\n<table border=\"1\" class=\"dataframe\">\n  <thead>\n    <tr style=\"text-align: right;\">\n      <th></th>\n      <th>school</th>\n      <th>other_school</th>\n      <th>majors</th>\n      <th>minors</th>\n      <th>age_bin</th>\n      <th>classification</th>\n      <th>first_generation</th>\n      <th>datascience_experience</th>\n      <th>technology_experience</th>\n      <th>num_hackathons_attended</th>\n      <th>workshop_suggestions</th>\n      <th>relavent_industries</th>\n      <th>query</th>\n    </tr>\n  </thead>\n  <tbody>\n    <tr>\n      <th>0003bb1d6585a9342bbb745bb52bb436</th>\n      <td>New York University</td>\n      <td>NaN</td>\n      <td>['Other']</td>\n      <td>['Computer Science &amp; Engineering']</td>\n      <td>(20, 22]</td>\n      <td>3</td>\n      <td>False</td>\n      <td>2</td>\n      <td>[]</td>\n      <td>1-3</td>\n      <td>NaN</td>\n      <td>[]</td>\n      <td>NaN</td>\n    </tr>\n    <tr>\n      <th>002314e62544dcb65e08d3483c4ffa75</th>\n      <td>Texas A&amp;M University</td>\n      <td>NaN</td>\n      <td>['Computer Science &amp; Engineering']</td>\n      <td>[]</td>\n      <td>(18, 20]</td>\n      <td>2</td>\n      <td>False</td>\n      <td>1</td>\n      <td>['Python', 'full_stack']</td>\n      <td>1-3</td>\n      <td>NaN</td>\n      <td>[]</td>\n      <td>NaN</td>\n    </tr>\n    <tr>\n      <th>00732e4333714e18b3186a84efc7c5a7</th>\n      <td>Washington University in St. Louis</td>\n      <td>NaN</td>\n      <td>['Data Science &amp; Analytics', 'Electrical Engin...</td>\n      <td>[]</td>\n      <td>(22, 25]</td>\n      <td>4</td>\n      <td>False</td>\n      <td>2</td>\n      <td>[]</td>\n      <td>0</td>\n      <td>NaN</td>\n      <td>['technology', 'energy', 'consulting', 'finance']</td>\n      <td>NaN</td>\n    </tr>\n    <tr>\n      <th>0084482449fe55efd513ed31a09c8ef3</th>\n      <td>Texas A&amp;M University</td>\n      <td>NaN</td>\n      <td>['Management Information Systems']</td>\n      <td>[]</td>\n      <td>(22, 25]</td>\n      <td>4</td>\n      <td>False</td>\n      <td>2</td>\n      <td>['Excel', 'Python', 'Tableau', 'SQL', 'Pandas'...</td>\n      <td>4-7</td>\n      <td>NaN</td>\n      <td>['technology', 'consulting', 'finance', 'educa...</td>\n      <td>NaN</td>\n    </tr>\n  </tbody>\n</table>\n</div>"
     },
     "metadata": {},
     "execution_count": 12
    }
   ],
   "source": [
    "joined.classification.replace(to_replace=dict(Fr=0, So=1, Jr=2, Sr=3, Ma=4, PhD=5, O=6), inplace=True)\n",
    "\n",
    "joined.head(4)"
   ]
  },
  {
   "cell_type": "code",
   "execution_count": 22,
   "metadata": {},
   "outputs": [
    {
     "output_type": "execute_result",
     "data": {
      "text/plain": [
       "0003bb1d6585a9342bbb745bb52bb436    [20, 22]\n",
       "002314e62544dcb65e08d3483c4ffa75    [18, 20]\n",
       "00732e4333714e18b3186a84efc7c5a7    [22, 25]\n",
       "0084482449fe55efd513ed31a09c8ef3    [22, 25]\n",
       "0094451e8f688f5b45e9466528137d44    [25, 30]\n",
       "00a84ee6be115dd286af149411e91bbe    [22, 25]\n",
       "00b8592a7063cd97a01155d5d540330e    [22, 25]\n",
       "00f3a95bc2be650ce89640cc7c30bec1    [18, 20]\n",
       "00fa667586baa5ab6e730e1f4eeb6314    [18, 20]\n",
       "011c08999895a8a06f6e7f0e23b066b9    [30, 50]\n",
       "Name: age_bin, dtype: object"
      ]
     },
     "metadata": {},
     "execution_count": 22
    }
   ],
   "source": [
    "import numpy as np\n",
    "h = joined['age_bin'] = joined['age_bin'].str.replace('(', '[')\n",
    "list(h)\n",
    "h.head(10)"
   ]
  },
  {
   "cell_type": "code",
   "execution_count": 37,
   "metadata": {},
   "outputs": [],
   "source": [
    "x=joined['classification']\n",
    "x = x.values.reshape(-1,1)\n",
    "y=joined['age_bin']"
   ]
  },
  {
   "cell_type": "code",
   "execution_count": 38,
   "metadata": {},
   "outputs": [],
   "source": [
    "x_train, x_test, y_train, y_test = train_test_split(x, y, random_state   = 1)"
   ]
  },
  {
   "cell_type": "code",
   "execution_count": 39,
   "metadata": {},
   "outputs": [
    {
     "output_type": "execute_result",
     "data": {
      "text/plain": [
       "DecisionTreeClassifier()"
      ]
     },
     "metadata": {},
     "execution_count": 39
    }
   ],
   "source": [
    "clf = DecisionTreeClassifier()\n",
    "clf.fit(x_train, y_train)"
   ]
  },
  {
   "cell_type": "code",
   "execution_count": 40,
   "metadata": {},
   "outputs": [
    {
     "output_type": "execute_result",
     "data": {
      "text/plain": [
       "DecisionTreeClassifier()"
      ]
     },
     "metadata": {},
     "execution_count": 40
    }
   ],
   "source": [
    "clf = DecisionTreeClassifier()\n",
    "clf.fit(x_train, y_train)"
   ]
  },
  {
   "cell_type": "code",
   "execution_count": 41,
   "metadata": {},
   "outputs": [],
   "source": [
    "y_pred = clf.predict(x_train)\n",
    "pred = clf.predict(x_test)"
   ]
  },
  {
   "cell_type": "code",
   "execution_count": 42,
   "metadata": {},
   "outputs": [
    {
     "output_type": "stream",
     "name": "stdout",
     "text": [
      "[[38 12  2  0  0  0]\n [ 5 87  8  0  0  0]\n [ 1 15 34 13  0  0]\n [ 0  5 13 35  3  0]\n [ 0  2  6 17  6  0]\n [ 0  0  4  3  4  0]]\n              precision    recall  f1-score   support\n\n    [15, 18]       0.86      0.73      0.79        52\n    [18, 20]       0.72      0.87      0.79       100\n    [20, 22]       0.51      0.54      0.52        63\n    [22, 25]       0.51      0.62      0.56        56\n    [25, 30]       0.46      0.19      0.27        31\n    [30, 50]       0.00      0.00      0.00        11\n\n    accuracy                           0.64       313\n   macro avg       0.51      0.49      0.49       313\nweighted avg       0.61      0.64      0.62       313\n\n"
     ]
    }
   ],
   "source": [
    "\n",
    "print(confusion_matrix(y_test,pred))\n",
    "\n",
    "print(classification_report(y_test,pred))"
   ]
  },
  {
   "cell_type": "code",
   "execution_count": 76,
   "metadata": {},
   "outputs": [
    {
     "output_type": "error",
     "ename": "SyntaxError",
     "evalue": "invalid syntax (<ipython-input-76-c92a911b7523>, line 1)",
     "traceback": [
      "\u001b[1;36m  File \u001b[1;32m\"<ipython-input-76-c92a911b7523>\"\u001b[1;36m, line \u001b[1;32m1\u001b[0m\n\u001b[1;33m    joined.age_bin[,:]\u001b[0m\n\u001b[1;37m                   ^\u001b[0m\n\u001b[1;31mSyntaxError\u001b[0m\u001b[1;31m:\u001b[0m invalid syntax\n"
     ]
    }
   ],
   "source": []
  },
  {
   "cell_type": "code",
   "execution_count": 57,
   "metadata": {},
   "outputs": [
    {
     "output_type": "error",
     "ename": "ValueError",
     "evalue": "Length of feature_names, 7 does not match number of features, 1",
     "traceback": [
      "\u001b[1;31m---------------------------------------------------------------------------\u001b[0m",
      "\u001b[1;31mValueError\u001b[0m                                Traceback (most recent call last)",
      "\u001b[1;32m<ipython-input-57-c975924d2193>\u001b[0m in \u001b[0;36m<module>\u001b[1;34m\u001b[0m\n\u001b[0;32m      2\u001b[0m \u001b[1;32mimport\u001b[0m \u001b[0mgraphviz\u001b[0m\u001b[1;33m\u001b[0m\u001b[1;33m\u001b[0m\u001b[0m\n\u001b[0;32m      3\u001b[0m \u001b[1;33m\u001b[0m\u001b[0m\n\u001b[1;32m----> 4\u001b[1;33m \u001b[0mdot_data\u001b[0m \u001b[1;33m=\u001b[0m \u001b[0mexport_graphviz\u001b[0m\u001b[1;33m(\u001b[0m\u001b[0mclf\u001b[0m\u001b[1;33m,\u001b[0m \u001b[0mout_file\u001b[0m\u001b[1;33m=\u001b[0m\u001b[1;32mNone\u001b[0m\u001b[1;33m,\u001b[0m \u001b[0mfeature_names\u001b[0m\u001b[1;33m=\u001b[0m\u001b[0mjoined\u001b[0m\u001b[1;33m.\u001b[0m\u001b[0mage_bin\u001b[0m\u001b[1;33m[\u001b[0m\u001b[1;36m1\u001b[0m\u001b[1;33m:\u001b[0m\u001b[1;36m8\u001b[0m\u001b[1;33m]\u001b[0m\u001b[1;33m,\u001b[0m \u001b[0mclass_names\u001b[0m\u001b[1;33m=\u001b[0m\u001b[0mjoined\u001b[0m\u001b[1;33m.\u001b[0m\u001b[0mclassification\u001b[0m\u001b[1;33m[\u001b[0m\u001b[1;36m1\u001b[0m\u001b[1;33m:\u001b[0m\u001b[1;36m6\u001b[0m\u001b[1;33m]\u001b[0m\u001b[1;33m)\u001b[0m\u001b[1;33m\u001b[0m\u001b[1;33m\u001b[0m\u001b[0m\n\u001b[0m\u001b[0;32m      5\u001b[0m \u001b[0mgraph\u001b[0m \u001b[1;33m=\u001b[0m \u001b[0mpydotplus\u001b[0m\u001b[1;33m.\u001b[0m\u001b[0mgraph_from_dot_data\u001b[0m\u001b[1;33m(\u001b[0m\u001b[0mdot_data\u001b[0m\u001b[1;33m)\u001b[0m\u001b[1;33m\u001b[0m\u001b[1;33m\u001b[0m\u001b[0m\n\u001b[0;32m      6\u001b[0m \u001b[0mg\u001b[0m \u001b[1;33m=\u001b[0m \u001b[0mgraphviz\u001b[0m\u001b[1;33m.\u001b[0m\u001b[0mSource\u001b[0m\u001b[1;33m(\u001b[0m\u001b[0mdot_data\u001b[0m\u001b[1;33m)\u001b[0m\u001b[1;33m\u001b[0m\u001b[1;33m\u001b[0m\u001b[0m\n",
      "\u001b[1;32m~\\anaconda3\\lib\\site-packages\\sklearn\\utils\\validation.py\u001b[0m in \u001b[0;36minner_f\u001b[1;34m(*args, **kwargs)\u001b[0m\n\u001b[0;32m     70\u001b[0m                           FutureWarning)\n\u001b[0;32m     71\u001b[0m         \u001b[0mkwargs\u001b[0m\u001b[1;33m.\u001b[0m\u001b[0mupdate\u001b[0m\u001b[1;33m(\u001b[0m\u001b[1;33m{\u001b[0m\u001b[0mk\u001b[0m\u001b[1;33m:\u001b[0m \u001b[0marg\u001b[0m \u001b[1;32mfor\u001b[0m \u001b[0mk\u001b[0m\u001b[1;33m,\u001b[0m \u001b[0marg\u001b[0m \u001b[1;32min\u001b[0m \u001b[0mzip\u001b[0m\u001b[1;33m(\u001b[0m\u001b[0msig\u001b[0m\u001b[1;33m.\u001b[0m\u001b[0mparameters\u001b[0m\u001b[1;33m,\u001b[0m \u001b[0margs\u001b[0m\u001b[1;33m)\u001b[0m\u001b[1;33m}\u001b[0m\u001b[1;33m)\u001b[0m\u001b[1;33m\u001b[0m\u001b[1;33m\u001b[0m\u001b[0m\n\u001b[1;32m---> 72\u001b[1;33m         \u001b[1;32mreturn\u001b[0m \u001b[0mf\u001b[0m\u001b[1;33m(\u001b[0m\u001b[1;33m**\u001b[0m\u001b[0mkwargs\u001b[0m\u001b[1;33m)\u001b[0m\u001b[1;33m\u001b[0m\u001b[1;33m\u001b[0m\u001b[0m\n\u001b[0m\u001b[0;32m     73\u001b[0m     \u001b[1;32mreturn\u001b[0m \u001b[0minner_f\u001b[0m\u001b[1;33m\u001b[0m\u001b[1;33m\u001b[0m\u001b[0m\n\u001b[0;32m     74\u001b[0m \u001b[1;33m\u001b[0m\u001b[0m\n",
      "\u001b[1;32m~\\anaconda3\\lib\\site-packages\\sklearn\\tree\\_export.py\u001b[0m in \u001b[0;36mexport_graphviz\u001b[1;34m(decision_tree, out_file, max_depth, feature_names, class_names, label, filled, leaves_parallel, impurity, node_ids, proportion, rotate, rounded, special_characters, precision)\u001b[0m\n\u001b[0;32m    781\u001b[0m             \u001b[0mrounded\u001b[0m\u001b[1;33m=\u001b[0m\u001b[0mrounded\u001b[0m\u001b[1;33m,\u001b[0m \u001b[0mspecial_characters\u001b[0m\u001b[1;33m=\u001b[0m\u001b[0mspecial_characters\u001b[0m\u001b[1;33m,\u001b[0m\u001b[1;33m\u001b[0m\u001b[1;33m\u001b[0m\u001b[0m\n\u001b[0;32m    782\u001b[0m             precision=precision)\n\u001b[1;32m--> 783\u001b[1;33m         \u001b[0mexporter\u001b[0m\u001b[1;33m.\u001b[0m\u001b[0mexport\u001b[0m\u001b[1;33m(\u001b[0m\u001b[0mdecision_tree\u001b[0m\u001b[1;33m)\u001b[0m\u001b[1;33m\u001b[0m\u001b[1;33m\u001b[0m\u001b[0m\n\u001b[0m\u001b[0;32m    784\u001b[0m \u001b[1;33m\u001b[0m\u001b[0m\n\u001b[0;32m    785\u001b[0m         \u001b[1;32mif\u001b[0m \u001b[0mreturn_string\u001b[0m\u001b[1;33m:\u001b[0m\u001b[1;33m\u001b[0m\u001b[1;33m\u001b[0m\u001b[0m\n",
      "\u001b[1;32m~\\anaconda3\\lib\\site-packages\\sklearn\\tree\\_export.py\u001b[0m in \u001b[0;36mexport\u001b[1;34m(self, decision_tree)\u001b[0m\n\u001b[0;32m    411\u001b[0m         \u001b[1;32mif\u001b[0m \u001b[0mself\u001b[0m\u001b[1;33m.\u001b[0m\u001b[0mfeature_names\u001b[0m \u001b[1;32mis\u001b[0m \u001b[1;32mnot\u001b[0m \u001b[1;32mNone\u001b[0m\u001b[1;33m:\u001b[0m\u001b[1;33m\u001b[0m\u001b[1;33m\u001b[0m\u001b[0m\n\u001b[0;32m    412\u001b[0m             \u001b[1;32mif\u001b[0m \u001b[0mlen\u001b[0m\u001b[1;33m(\u001b[0m\u001b[0mself\u001b[0m\u001b[1;33m.\u001b[0m\u001b[0mfeature_names\u001b[0m\u001b[1;33m)\u001b[0m \u001b[1;33m!=\u001b[0m \u001b[0mdecision_tree\u001b[0m\u001b[1;33m.\u001b[0m\u001b[0mn_features_\u001b[0m\u001b[1;33m:\u001b[0m\u001b[1;33m\u001b[0m\u001b[1;33m\u001b[0m\u001b[0m\n\u001b[1;32m--> 413\u001b[1;33m                 raise ValueError(\"Length of feature_names, %d \"\n\u001b[0m\u001b[0;32m    414\u001b[0m                                  \u001b[1;34m\"does not match number of features, %d\"\u001b[0m\u001b[1;33m\u001b[0m\u001b[1;33m\u001b[0m\u001b[0m\n\u001b[0;32m    415\u001b[0m                                  % (len(self.feature_names),\n",
      "\u001b[1;31mValueError\u001b[0m: Length of feature_names, 7 does not match number of features, 1"
     ]
    }
   ],
   "source": [
    "# import pydotplus\n",
    "# import graphviz\n",
    "\n",
    "# dot_data = export_graphviz(clf, out_file=None, feature_names=joined.age_bin[1:8], class_names=joined.classification[1:6])\n",
    "# graph = pydotplus.graph_from_dot_data(dot_data)\n",
    "# g = graphviz.Source(dot_data)\n",
    "# g.view()"
   ]
  },
  {
   "cell_type": "code",
   "execution_count": null,
   "metadata": {},
   "outputs": [],
   "source": []
  }
 ]
}